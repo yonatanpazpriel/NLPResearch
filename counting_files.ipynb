{
 "cells": [
  {
   "cell_type": "code",
   "execution_count": 2,
   "id": "e80e6d4d",
   "metadata": {},
   "outputs": [
    {
     "name": "stdout",
     "output_type": "stream",
     "text": [
      "Total number of files in all subdirectories: 7482\n"
     ]
    }
   ],
   "source": [
    "import os\n",
    "\n",
    "def count_all_files(folder_path):\n",
    "    file_count = 0\n",
    "    for root, dirs, files in os.walk(folder_path):\n",
    "        file_count += len(files)  # Add the number of files in each directory\n",
    "    return file_count\n",
    "\n",
    "# Example usage\n",
    "folder_path = './count_files'\n",
    "total_file_count = count_all_files(folder_path)\n",
    "print(f\"Total number of files in all subdirectories: {total_file_count}\")\n"
   ]
  },
  {
   "cell_type": "code",
   "execution_count": null,
   "id": "23fec443",
   "metadata": {},
   "outputs": [],
   "source": []
  }
 ],
 "metadata": {
  "kernelspec": {
   "display_name": "Python 3 (ipykernel)",
   "language": "python",
   "name": "python3"
  },
  "language_info": {
   "codemirror_mode": {
    "name": "ipython",
    "version": 3
   },
   "file_extension": ".py",
   "mimetype": "text/x-python",
   "name": "python",
   "nbconvert_exporter": "python",
   "pygments_lexer": "ipython3",
   "version": "3.11.4"
  }
 },
 "nbformat": 4,
 "nbformat_minor": 5
}
