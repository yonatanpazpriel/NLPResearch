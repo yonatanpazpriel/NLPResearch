{
 "cells": [
  {
   "cell_type": "code",
   "execution_count": null,
   "id": "f177be7b-068d-46e8-959a-0cd3027ed1b7",
   "metadata": {},
   "outputs": [],
   "source": [
    "import os\n",
    "def count_image_files(directory):\n",
    "    count = 0\n",
    "    for root, dirs, files in os.walk(directory):\n",
    "        if not dirs == \"Text Files\":\n",
    "            for file in files:\n",
    "                if file.endswith(\"_image.pdf\"):\n",
    "                    count += 1\n",
    "               \n",
    "    return count\n",
    "\n",
    "def count_not_image_files(directory):\n",
    "    count = 0\n",
    "    for root, dirs, files in os.walk(directory):\n",
    "        for file in files:\n",
    "            if not file.endswith(\"_image.pdf\"):\n",
    "                count += 1\n",
    "           \n",
    "    return count\n",
    "\n",
    "def count_all(directory):\n",
    "     count = 0\n",
    "     for root, dirs, files in os.walk(directory):\n",
    "        for file in files:\n",
    "            count += 1\n",
    "     return count\n",
    "\n",
    "count_all(\"textractOutputs\")"
   ]
  }
 ],
 "metadata": {
  "kernelspec": {
   "display_name": "Python 3 (ipykernel)",
   "language": "python",
   "name": "python3"
  },
  "language_info": {
   "codemirror_mode": {
    "name": "ipython",
    "version": 3
   },
   "file_extension": ".py",
   "mimetype": "text/x-python",
   "name": "python",
   "nbconvert_exporter": "python",
   "pygments_lexer": "ipython3",
   "version": "3.12.3"
  }
 },
 "nbformat": 4,
 "nbformat_minor": 5
}
