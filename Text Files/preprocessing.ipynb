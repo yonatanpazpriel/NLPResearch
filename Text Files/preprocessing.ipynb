{
 "cells": [
  {
   "cell_type": "markdown",
   "id": "f94c2e2a-0649-4e40-8048-44ba0113091d",
   "metadata": {},
   "source": [
    "#### Import necessary libraries and data."
   ]
  },
  {
   "cell_type": "code",
   "execution_count": 1,
   "id": "15b22c66-cfc6-43fb-bebd-b335c8a29350",
   "metadata": {},
   "outputs": [
    {
     "name": "stdout",
     "output_type": "stream",
     "text": [
      "Requirement already satisfied: nltk in c:\\users\\yonat\\appdata\\local\\programs\\python\\python312\\lib\\site-packages (3.2.4)\n",
      "Requirement already satisfied: six in c:\\users\\yonat\\appdata\\roaming\\python\\python312\\site-packages (from nltk) (1.16.0)\n",
      "Note: you may need to restart the kernel to use updated packages.\n"
     ]
    },
    {
     "name": "stderr",
     "output_type": "stream",
     "text": [
      "DEPRECATION: textract 1.6.5 has a non-standard dependency specifier extract-msg<=0.29.*. pip 24.1 will enforce this behaviour change. A possible replacement is to upgrade to a newer version of textract or contact the author to suggest that they release a version with a conforming dependency specifiers. Discussion can be found at https://github.com/pypa/pip/issues/12063\n",
      "\n",
      "[notice] A new release of pip is available: 24.0 -> 24.2\n",
      "[notice] To update, run: C:\\Users\\yonat\\AppData\\Local\\Programs\\Python\\Python312\\python.exe -m pip install --upgrade pip\n"
     ]
    }
   ],
   "source": [
    "pip install nltk"
   ]
  },
  {
   "cell_type": "code",
   "execution_count": 11,
   "id": "89d2c20c-c44d-47a8-a59d-18a269d395d7",
   "metadata": {},
   "outputs": [
    {
     "ename": "AttributeError",
     "evalue": "module 'inspect' has no attribute 'formatargspec'",
     "output_type": "error",
     "traceback": [
      "\u001b[1;31m---------------------------------------------------------------------------\u001b[0m",
      "\u001b[1;31mAttributeError\u001b[0m                            Traceback (most recent call last)",
      "Cell \u001b[1;32mIn[11], line 4\u001b[0m\n\u001b[0;32m      2\u001b[0m \u001b[38;5;28;01mimport\u001b[39;00m \u001b[38;5;21;01mos\u001b[39;00m\n\u001b[0;32m      3\u001b[0m \u001b[38;5;28;01mimport\u001b[39;00m \u001b[38;5;21;01mtextract\u001b[39;00m\n\u001b[1;32m----> 4\u001b[0m \u001b[38;5;28;01mimport\u001b[39;00m \u001b[38;5;21;01mnltk\u001b[39;00m\n\u001b[0;32m      5\u001b[0m nltk\u001b[38;5;241m.\u001b[39mdownload(\u001b[38;5;124m'\u001b[39m\u001b[38;5;124mpunkt\u001b[39m\u001b[38;5;124m'\u001b[39m)\n\u001b[0;32m      6\u001b[0m nltk\u001b[38;5;241m.\u001b[39mdownload(\u001b[38;5;124m'\u001b[39m\u001b[38;5;124mstopwords\u001b[39m\u001b[38;5;124m'\u001b[39m)\n",
      "File \u001b[1;32m~\\AppData\\Local\\Programs\\Python\\Python312\\Lib\\site-packages\\nltk\\__init__.py:115\u001b[0m\n\u001b[0;32m    108\u001b[0m \u001b[38;5;66;03m###########################################################\u001b[39;00m\n\u001b[0;32m    109\u001b[0m \u001b[38;5;66;03m# TOP-LEVEL MODULES\u001b[39;00m\n\u001b[0;32m    110\u001b[0m \u001b[38;5;66;03m###########################################################\u001b[39;00m\n\u001b[0;32m    111\u001b[0m \n\u001b[0;32m    112\u001b[0m \u001b[38;5;66;03m# Import top-level functionality into top-level namespace\u001b[39;00m\n\u001b[0;32m    114\u001b[0m \u001b[38;5;28;01mfrom\u001b[39;00m \u001b[38;5;21;01mnltk\u001b[39;00m\u001b[38;5;21;01m.\u001b[39;00m\u001b[38;5;21;01mcollocations\u001b[39;00m \u001b[38;5;28;01mimport\u001b[39;00m \u001b[38;5;241m*\u001b[39m\n\u001b[1;32m--> 115\u001b[0m \u001b[38;5;28;01mfrom\u001b[39;00m \u001b[38;5;21;01mnltk\u001b[39;00m\u001b[38;5;21;01m.\u001b[39;00m\u001b[38;5;21;01mdecorators\u001b[39;00m \u001b[38;5;28;01mimport\u001b[39;00m decorator, memoize\n\u001b[0;32m    116\u001b[0m \u001b[38;5;28;01mfrom\u001b[39;00m \u001b[38;5;21;01mnltk\u001b[39;00m\u001b[38;5;21;01m.\u001b[39;00m\u001b[38;5;21;01mfeatstruct\u001b[39;00m \u001b[38;5;28;01mimport\u001b[39;00m \u001b[38;5;241m*\u001b[39m\n\u001b[0;32m    117\u001b[0m \u001b[38;5;28;01mfrom\u001b[39;00m \u001b[38;5;21;01mnltk\u001b[39;00m\u001b[38;5;21;01m.\u001b[39;00m\u001b[38;5;21;01mgrammar\u001b[39;00m \u001b[38;5;28;01mimport\u001b[39;00m \u001b[38;5;241m*\u001b[39m\n",
      "File \u001b[1;32m~\\AppData\\Local\\Programs\\Python\\Python312\\Lib\\site-packages\\nltk\\decorators.py:187\u001b[0m\n\u001b[0;32m    184\u001b[0m         \u001b[38;5;28msetattr\u001b[39m(obj, name, default)\n\u001b[0;32m    185\u001b[0m         \u001b[38;5;28;01mreturn\u001b[39;00m default\n\u001b[1;32m--> 187\u001b[0m \u001b[38;5;129;43m@decorator\u001b[39;49m\n\u001b[0;32m    188\u001b[0m \u001b[38;5;28;43;01mdef\u001b[39;49;00m\u001b[43m \u001b[49m\u001b[38;5;21;43mmemoize\u001b[39;49m\u001b[43m(\u001b[49m\u001b[43mfunc\u001b[49m\u001b[43m,\u001b[49m\u001b[43m \u001b[49m\u001b[38;5;241;43m*\u001b[39;49m\u001b[43margs\u001b[49m\u001b[43m)\u001b[49m\u001b[43m:\u001b[49m\n\u001b[0;32m    189\u001b[0m \u001b[43m    \u001b[49m\u001b[43mdic\u001b[49m\u001b[43m \u001b[49m\u001b[38;5;241;43m=\u001b[39;49m\u001b[43m \u001b[49m\u001b[43mgetattr_\u001b[49m\u001b[43m(\u001b[49m\u001b[43mfunc\u001b[49m\u001b[43m,\u001b[49m\u001b[43m \u001b[49m\u001b[38;5;124;43m\"\u001b[39;49m\u001b[38;5;124;43mmemoize_dic\u001b[39;49m\u001b[38;5;124;43m\"\u001b[39;49m\u001b[43m,\u001b[49m\u001b[43m \u001b[49m\u001b[38;5;28;43mdict\u001b[39;49m\u001b[43m)\u001b[49m\n\u001b[0;32m    190\u001b[0m \u001b[43m    \u001b[49m\u001b[38;5;66;43;03m# memoize_dic is created at the first call\u001b[39;49;00m\n",
      "File \u001b[1;32m~\\AppData\\Local\\Programs\\Python\\Python312\\Lib\\site-packages\\nltk\\decorators.py:176\u001b[0m, in \u001b[0;36mdecorator\u001b[1;34m(caller)\u001b[0m\n\u001b[0;32m    174\u001b[0m     dec_func \u001b[38;5;241m=\u001b[39m \u001b[38;5;28meval\u001b[39m(src, \u001b[38;5;28mdict\u001b[39m(_func_\u001b[38;5;241m=\u001b[39mfunc, _call_\u001b[38;5;241m=\u001b[39mcaller))\n\u001b[0;32m    175\u001b[0m     \u001b[38;5;28;01mreturn\u001b[39;00m update_wrapper(dec_func, func, infodict)\n\u001b[1;32m--> 176\u001b[0m \u001b[38;5;28;01mreturn\u001b[39;00m \u001b[43mupdate_wrapper\u001b[49m\u001b[43m(\u001b[49m\u001b[43m_decorator\u001b[49m\u001b[43m,\u001b[49m\u001b[43m \u001b[49m\u001b[43mcaller\u001b[49m\u001b[43m)\u001b[49m\n",
      "File \u001b[1;32m~\\AppData\\Local\\Programs\\Python\\Python312\\Lib\\site-packages\\nltk\\decorators.py:87\u001b[0m, in \u001b[0;36mupdate_wrapper\u001b[1;34m(wrapper, model, infodict)\u001b[0m\n\u001b[0;32m     86\u001b[0m \u001b[38;5;28;01mdef\u001b[39;00m \u001b[38;5;21mupdate_wrapper\u001b[39m(wrapper, model, infodict\u001b[38;5;241m=\u001b[39m\u001b[38;5;28;01mNone\u001b[39;00m):\n\u001b[1;32m---> 87\u001b[0m     infodict \u001b[38;5;241m=\u001b[39m infodict \u001b[38;5;129;01mor\u001b[39;00m \u001b[43mgetinfo\u001b[49m\u001b[43m(\u001b[49m\u001b[43mmodel\u001b[49m\u001b[43m)\u001b[49m\n\u001b[0;32m     88\u001b[0m     wrapper\u001b[38;5;241m.\u001b[39m\u001b[38;5;18m__name__\u001b[39m \u001b[38;5;241m=\u001b[39m infodict[\u001b[38;5;124m'\u001b[39m\u001b[38;5;124mname\u001b[39m\u001b[38;5;124m'\u001b[39m]\n\u001b[0;32m     89\u001b[0m     wrapper\u001b[38;5;241m.\u001b[39m\u001b[38;5;18m__doc__\u001b[39m \u001b[38;5;241m=\u001b[39m infodict[\u001b[38;5;124m'\u001b[39m\u001b[38;5;124mdoc\u001b[39m\u001b[38;5;124m'\u001b[39m]\n",
      "File \u001b[1;32m~\\AppData\\Local\\Programs\\Python\\Python312\\Lib\\site-packages\\nltk\\decorators.py:69\u001b[0m, in \u001b[0;36mgetinfo\u001b[1;34m(func)\u001b[0m\n\u001b[0;32m     67\u001b[0m \u001b[38;5;28;01mif\u001b[39;00m varkwargs:\n\u001b[0;32m     68\u001b[0m     argnames\u001b[38;5;241m.\u001b[39mappend(varkwargs)\n\u001b[1;32m---> 69\u001b[0m signature \u001b[38;5;241m=\u001b[39m \u001b[43minspect\u001b[49m\u001b[38;5;241;43m.\u001b[39;49m\u001b[43mformatargspec\u001b[49m(regargs, varargs, varkwargs, defaults,\n\u001b[0;32m     70\u001b[0m                                   formatvalue\u001b[38;5;241m=\u001b[39m\u001b[38;5;28;01mlambda\u001b[39;00m value: \u001b[38;5;124m\"\u001b[39m\u001b[38;5;124m\"\u001b[39m)[\u001b[38;5;241m1\u001b[39m:\u001b[38;5;241m-\u001b[39m\u001b[38;5;241m1\u001b[39m]\n\u001b[0;32m     72\u001b[0m \u001b[38;5;66;03m# pypy compatibility\u001b[39;00m\n\u001b[0;32m     73\u001b[0m \u001b[38;5;28;01mif\u001b[39;00m \u001b[38;5;28mhasattr\u001b[39m(func, \u001b[38;5;124m'\u001b[39m\u001b[38;5;124m__closure__\u001b[39m\u001b[38;5;124m'\u001b[39m):\n",
      "\u001b[1;31mAttributeError\u001b[0m: module 'inspect' has no attribute 'formatargspec'"
     ]
    }
   ],
   "source": [
    "# Import necessary libraries\n",
    "import os\n",
    "import textract\n",
    "import nltk\n",
    "nltk.download('punkt')\n",
    "nltk.download('stopwords')\n",
    "nltk.download('wordnet')\n",
    "from nltk.corpus import stopwords\n",
    "from nltk.tokenize import word_tokenize\n",
    "from nltk.stem import WordNetLemmatizer\n",
    "\n",
    "# Initialize the lemmatizer\n",
    "lemmatizer = WordNetLemmatizer()\n",
    "stop_words = set(stopwords.words('english'))\n",
    "\n",
    "# Define the path to the main directory\n",
    "directory = \"textractOutputs\""
   ]
  },
  {
   "cell_type": "markdown",
   "id": "56502953-1ad7-4e94-a400-13e9e7cd1014",
   "metadata": {},
   "source": [
    "#### Define preprocessing function."
   ]
  },
  {
   "cell_type": "code",
   "execution_count": null,
   "id": "f0205b46-ce10-46fc-abbb-0d19260f9a35",
   "metadata": {},
   "outputs": [],
   "source": [
    "def preprocess_text(text): # tokenize, lowercase, lemmatize and remove stopwords.\n",
    "    tokens = word_tokenize(text)\n",
    "    tokens = [word.lower() for word in tokens]   \n",
    "    tokens = [word for word in tokens if word.isalpha()]\n",
    "    tokens = [word for word in tokens if word not in stop_words]\n",
    "    tokens = [lemmatizer.lemmatize(word) for word in tokens]\n",
    "    preprocessed_text = ' '.join(tokens)\n",
    "    return preprocessed_text"
   ]
  },
  {
   "cell_type": "markdown",
   "id": "370da515-f283-4beb-b7c0-eeb41b93260f",
   "metadata": {},
   "source": [
    "#### Go through each .txt file in /textractOutputs and process it. Add file name, folder of origin, and the processed text itself into corresponding columns."
   ]
  },
  {
   "cell_type": "code",
   "execution_count": null,
   "id": "fe654572-a511-4d21-b151-2d705ffdb85d",
   "metadata": {},
   "outputs": [],
   "source": [
    "preprocessed_documents = []\n",
    "original_folders = []\n",
    "file_names = []\n",
    "\n",
    "for subdir, dirs, files in os.walk(directory):\n",
    "    for file in files:\n",
    "        if file.endswith(\".txt\"):\n",
    "            \n",
    "            filepath = os.path.join(subdir, file)\n",
    "            folder_name = os.path.basename(subdir)\n",
    "            \n",
    "            with open(filepath, 'r', encoding='utf-8') as f:\n",
    "                text = f.read()\n",
    "                \n",
    "                # Preprocess the text\n",
    "                preprocessed_text = preprocess_text(text)\n",
    "                \n",
    "                # Store the preprocessed text and filename\n",
    "                preprocessed_documents.append(preprocessed_text)\n",
    "                original_folders.append(folder_name)\n",
    "                file_names.append(file)"
   ]
  },
  {
   "cell_type": "markdown",
   "id": "23407316-872d-4214-ab57-1dbb69379b38",
   "metadata": {},
   "source": [
    "#### Save processed texts to .csv file."
   ]
  },
  {
   "cell_type": "code",
   "execution_count": null,
   "id": "2708e2a8-e4c4-46c1-aabe-1ffa80c3548a",
   "metadata": {},
   "outputs": [],
   "source": [
    "df = pd.DataFrame({\n",
    "    'file_name': file_names,\n",
    "    'folder_name': folder_names,\n",
    "    'preprocessed_text': preprocessed_documents\n",
    "})\n",
    "\n",
    "# Save to CSV\n",
    "df.to_csv('preprocessed_texts.csv', index=False)"
   ]
  }
 ],
 "metadata": {
  "kernelspec": {
   "display_name": "Python 3 (ipykernel)",
   "language": "python",
   "name": "python3"
  },
  "language_info": {
   "codemirror_mode": {
    "name": "ipython",
    "version": 3
   },
   "file_extension": ".py",
   "mimetype": "text/x-python",
   "name": "python",
   "nbconvert_exporter": "python",
   "pygments_lexer": "ipython3",
   "version": "3.12.3"
  }
 },
 "nbformat": 4,
 "nbformat_minor": 5
}
