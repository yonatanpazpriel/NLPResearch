{
 "cells": [
  {
   "cell_type": "code",
   "execution_count": 1,
   "id": "d04abe73-600c-4af6-9de1-7ac0808e7348",
   "metadata": {},
   "outputs": [
    {
     "data": {
      "text/plain": [
       "6852"
      ]
     },
     "execution_count": 1,
     "metadata": {},
     "output_type": "execute_result"
    }
   ],
   "source": [
    "import os\n",
    "def count_image_files(directory):\n",
    "    count = 0\n",
    "    for root, dirs, files in os.walk(directory):\n",
    "        for file in files:\n",
    "            if file.endswith(\"_image.pdf\"):\n",
    "                count += 1\n",
    "           \n",
    "    return count\n",
    "\n",
    "def count_not_image_files(directory):\n",
    "    count = 0\n",
    "    for root, dirs, files in os.walk(directory):\n",
    "        for file in files:\n",
    "            if not file.endswith(\"_image.pdf\"):\n",
    "                count += 1\n",
    "           \n",
    "    return count\n",
    "\n",
    "def count_all(directory):\n",
    "     count = 0\n",
    "     for root, dirs, files in os.walk(directory):\n",
    "        for file in files:\n",
    "            count += 1\n",
    "     return count\n",
    "\n",
    "count_all(\"textractOutputs\")"
   ]
  },
  {
   "cell_type": "code",
   "execution_count": 2,
   "id": "3661a2cf-3232-4b2d-8787-710adb711cf3",
   "metadata": {},
   "outputs": [
    {
     "data": {
      "text/plain": [
       "70"
      ]
     },
     "execution_count": 2,
     "metadata": {},
     "output_type": "execute_result"
    }
   ],
   "source": [
    "count_image_files(\"textractOutputs\")"
   ]
  },
  {
   "cell_type": "code",
   "execution_count": 3,
   "id": "801eaaee-71b2-4c3c-81c9-bded338f95df",
   "metadata": {},
   "outputs": [
    {
     "data": {
      "text/plain": [
       "6782"
      ]
     },
     "execution_count": 3,
     "metadata": {},
     "output_type": "execute_result"
    }
   ],
   "source": [
    "count_not_image_files(\"textractOutputs\")"
   ]
  },
  {
   "cell_type": "code",
   "execution_count": null,
   "id": "4652ee97-9fdb-4377-8f11-0e37c114c24b",
   "metadata": {},
   "outputs": [],
   "source": []
  }
 ],
 "metadata": {
  "kernelspec": {
   "display_name": "Python 3 (ipykernel)",
   "language": "python",
   "name": "python3"
  },
  "language_info": {
   "codemirror_mode": {
    "name": "ipython",
    "version": 3
   },
   "file_extension": ".py",
   "mimetype": "text/x-python",
   "name": "python",
   "nbconvert_exporter": "python",
   "pygments_lexer": "ipython3",
   "version": "3.12.3"
  }
 },
 "nbformat": 4,
 "nbformat_minor": 5
}
