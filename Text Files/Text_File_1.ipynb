{
 "cells": [
  {
   "cell_type": "code",
   "execution_count": 5,
   "id": "23cf54c4",
   "metadata": {},
   "outputs": [
    {
     "name": "stdout",
     "output_type": "stream",
     "text": [
      "Requirement already satisfied: pytesseract in /Users/maryamzakiyya/anaconda3/lib/python3.11/site-packages (0.3.13)\r\n",
      "Requirement already satisfied: pillow in /Users/maryamzakiyya/anaconda3/lib/python3.11/site-packages (9.4.0)\r\n",
      "Requirement already satisfied: pdf2image in /Users/maryamzakiyya/anaconda3/lib/python3.11/site-packages (1.17.0)\r\n",
      "Requirement already satisfied: packaging>=21.3 in /Users/maryamzakiyya/anaconda3/lib/python3.11/site-packages (from pytesseract) (23.0)\r\n"
     ]
    }
   ],
   "source": [
    "!pip install pytesseract pillow pdf2image"
   ]
  },
  {
   "cell_type": "code",
   "execution_count": 6,
   "id": "422c6e5e",
   "metadata": {},
   "outputs": [],
   "source": [
    "import pytesseract\n",
    "\n",
    "pytesseract.pytesseract.tesseract_cmd = r'/opt/homebrew/bin/tesseract'"
   ]
  },
  {
   "cell_type": "code",
   "execution_count": 7,
   "id": "9af09888",
   "metadata": {},
   "outputs": [],
   "source": [
    "from pdf2image import convert_from_path\n",
    "\n",
    "pdf_path = '../Comments Received After Field Review/Lady C.pdf'\n",
    "images = convert_from_path(pdf_path)"
   ]
  },
  {
   "cell_type": "code",
   "execution_count": 8,
   "id": "c0949d4c",
   "metadata": {},
   "outputs": [
    {
     "name": "stdout",
     "output_type": "stream",
     "text": [
      "Page 1:\n",
      "From: Lady C.\n",
      "\n",
      "Sent: Friday, August 16, 2019 11:06 AM\n",
      "\n",
      "To: Ethnic Studies <EthnicStudies@cde.ca.gov>\n",
      "Subject: Core curriculum\n",
      "\n",
      "I for one will be praying for the children of California that they are not brainwashed into\n",
      "California's forced core curriculum and evil agenda that is being pushed. Another Holocaust??\n",
      "\n",
      "Put GOD back in the schools!\n",
      "In the name of the God the Father, God the Son, Jesus and God the Holy Spirit\n",
      "\n",
      "\n"
     ]
    }
   ],
   "source": [
    "for page_number, image in enumerate(images):\n",
    "    text = pytesseract.image_to_string(image)\n",
    "    print(f\"Page {page_number + 1}:\\n{text}\\n\")"
   ]
  },
  {
   "cell_type": "code",
   "execution_count": 6,
   "id": "59a9e848",
   "metadata": {},
   "outputs": [
    {
     "name": "stdout",
     "output_type": "stream",
     "text": [
      "From: Lady C.\n",
      "\n",
      "Sent: Friday, August 16, 2019 11:06 AM\n",
      "\n",
      "To: Ethnic Studies <EthnicStudies@cde.ca.gov>\n",
      "Subject: Core curriculum\n",
      "\n",
      "I for one will be praying for the children of California that they are not brainwashed into\n",
      "California's forced core curriculum and evil agenda that is being pushed. Another Holocaust??\n",
      "\n",
      "Put GOD back in the schools!\n",
      "In the name of the God the Father, God the Son, Jesus and God the Holy Spirit\n",
      "\n"
     ]
    }
   ],
   "source": [
    "print(text)"
   ]
  },
  {
   "cell_type": "code",
   "execution_count": 8,
   "id": "abafacc1",
   "metadata": {},
   "outputs": [
    {
     "name": "stdout",
     "output_type": "stream",
     "text": [
      "Extracted text saved to ../Text Files/7-24-20 Melissa.txt\n",
      "Extracted text saved to ../Text Files/7-17-20 Piper.txt\n",
      "Extracted text saved to ../Text Files/Gilly.txt\n",
      "Extracted text saved to ../Text Files/7-24-20 Levin.txt\n",
      "Extracted text saved to ../Text Files/4-1-20 Rihal.txt\n"
     ]
    }
   ],
   "source": [
    "import os\n",
    "from pdf2image import convert_from_path\n",
    "import pytesseract\n",
    "\n",
    "# Set the Tesseract command path if needed\n",
    "pytesseract.pytesseract.tesseract_cmd = r'/opt/homebrew/bin/tesseract'\n",
    "\n",
    "# Path to the folder containing PDFs\n",
    "pdf_folder_path = '../Comments Received After Field Review'\n",
    "\n",
    "# Path to the output folder where text files will be saved\n",
    "output_folder_path = '../Text Files'\n",
    "\n",
    "# Ensure the output folder exists\n",
    "os.makedirs(output_folder_path, exist_ok=True)\n",
    "\n",
    "# Counter to track the number of processed files\n",
    "file_count = 0\n",
    "max_files = 5  # Maximum number of files to process\n",
    "\n",
    "# Walk through all directories and subdirectories in the PDF folder\n",
    "for root, dirs, files in os.walk(pdf_folder_path):\n",
    "    for pdf_filename in files:\n",
    "        if pdf_filename.lower().endswith('.pdf'):\n",
    "            pdf_path = os.path.join(root, pdf_filename)\n",
    "\n",
    "            # Convert the PDF to images\n",
    "            images = convert_from_path(pdf_path)\n",
    "\n",
    "            # Extract text from each page and concatenate\n",
    "            extracted_text = \"\"\n",
    "            for page_number, image in enumerate(images):\n",
    "                text = pytesseract.image_to_string(image)\n",
    "                extracted_text += f\"Page {page_number + 1}:\\n{text}\\n\"\n",
    "\n",
    "            # Create the output text filename\n",
    "            text_filename = os.path.splitext(pdf_filename)[0] + '.txt'\n",
    "            text_file_path = os.path.join(output_folder_path, text_filename)\n",
    "\n",
    "            # Save the extracted text to the file\n",
    "            with open(text_file_path, 'w') as text_file:\n",
    "                text_file.write(extracted_text)\n",
    "\n",
    "            print(f\"Extracted text saved to {text_file_path}\")\n",
    "\n",
    "            # Increment the counter and break the loop if the limit is reached\n",
    "            file_count += 1\n",
    "            if file_count >= max_files:\n",
    "                break\n",
    "    if file_count >= max_files:\n",
    "        break\n"
   ]
  },
  {
   "cell_type": "code",
   "execution_count": 1,
   "id": "1f01dc91",
   "metadata": {},
   "outputs": [
    {
     "name": "stdout",
     "output_type": "stream",
     "text": [
      "Requirement already satisfied: pdfminer.six in /Users/maryamzakiyya/anaconda3/lib/python3.11/site-packages (20240706)\r\n",
      "Requirement already satisfied: charset-normalizer>=2.0.0 in /Users/maryamzakiyya/anaconda3/lib/python3.11/site-packages (from pdfminer.six) (2.0.4)\r\n",
      "Requirement already satisfied: cryptography>=36.0.0 in /Users/maryamzakiyya/anaconda3/lib/python3.11/site-packages (from pdfminer.six) (41.0.2)\r\n",
      "Requirement already satisfied: cffi>=1.12 in /Users/maryamzakiyya/anaconda3/lib/python3.11/site-packages (from cryptography>=36.0.0->pdfminer.six) (1.15.1)\r\n",
      "Requirement already satisfied: pycparser in /Users/maryamzakiyya/anaconda3/lib/python3.11/site-packages (from cffi>=1.12->cryptography>=36.0.0->pdfminer.six) (2.21)\r\n"
     ]
    }
   ],
   "source": [
    "!pip install pdfminer.six"
   ]
  },
  {
   "cell_type": "code",
   "execution_count": 2,
   "id": "8f79e9e9",
   "metadata": {},
   "outputs": [],
   "source": [
    "from pdfminer.high_level import extract_text\n"
   ]
  },
  {
   "cell_type": "code",
   "execution_count": 3,
   "id": "37a35481",
   "metadata": {},
   "outputs": [],
   "source": [
    "from pdfminer.high_level import extract_text\n"
   ]
  },
  {
   "cell_type": "code",
   "execution_count": 4,
   "id": "071ee396",
   "metadata": {},
   "outputs": [
    {
     "name": "stdout",
     "output_type": "stream",
     "text": [
      "Extracted text from 7-24-20 Melissa.pdf and saved to ../Text Files/7-24-20 Melissa.txt\n",
      "Extracted text from 7-17-20 Piper.pdf and saved to ../Text Files/7-17-20 Piper.txt\n",
      "Extracted text from Gilly.pdf and saved to ../Text Files/Gilly.txt\n",
      "Extracted text from 7-24-20 Levin.pdf and saved to ../Text Files/7-24-20 Levin.txt\n",
      "Extracted text from 4-1-20 Rihal.pdf and saved to ../Text Files/4-1-20 Rihal.txt\n"
     ]
    }
   ],
   "source": [
    "import os\n",
    "from pdfminer.high_level import extract_text\n",
    "\n",
    "# Set the paths\n",
    "folder_path = '../Comments Received After Field Review/'\n",
    "output_folder = '../Text Files/'\n",
    "\n",
    "# Make sure the output folder exists\n",
    "if not os.path.exists(output_folder):\n",
    "    os.makedirs(output_folder)\n",
    "\n",
    "# Get all PDF files in the folder\n",
    "pdf_files = [f for f in os.listdir(folder_path) if f.lower().endswith('.pdf')]\n",
    "\n",
    "# Extract text from the first 5 PDFs\n",
    "for pdf_file in pdf_files[:5]:\n",
    "    pdf_path = os.path.join(folder_path, pdf_file)\n",
    "    \n",
    "    # Extract text using pdfminer\n",
    "    try:\n",
    "        text = extract_text(pdf_path)\n",
    "        \n",
    "        # Save the extracted text to a file\n",
    "        output_file_path = os.path.join(output_folder, os.path.splitext(pdf_file)[0] + '.txt')\n",
    "        with open(output_file_path, 'w', encoding='utf-8') as text_file:\n",
    "            text_file.write(text)\n",
    "        \n",
    "        print(f\"Extracted text from {pdf_file} and saved to {output_file_path}\")\n",
    "    \n",
    "    except Exception as e:\n",
    "        print(f\"Failed to extract text from {pdf_file}: {e}\")\n",
    "\n"
   ]
  },
  {
   "cell_type": "code",
   "execution_count": 5,
   "id": "a9743691",
   "metadata": {},
   "outputs": [
    {
     "name": "stdout",
     "output_type": "stream",
     "text": [
      "Processed: 7-24-20 Melissa\n",
      "Processed: 7-17-20 Piper\n",
      "Processed: Gilly\n",
      "Processed: 7-24-20 Levin\n",
      "Processed: 4-1-20 Rihal\n",
      "Processed: 7-22-20 Huen\n",
      "Processed: 7-24-20 Green\n",
      "Processed: 3-30-20 J Singh\n",
      "Processed: 7-28-20 Fattal\n",
      "Processed: 6-3-20 Manalo\n"
     ]
    }
   ],
   "source": [
    "import os\n",
    "from pdfminer.high_level import extract_text\n",
    "from pdf2image import convert_from_path\n",
    "import pytesseract\n",
    "\n",
    "# Define paths\n",
    "pdf_folder = '../Comments Received After Field Review'\n",
    "output_folder = '../Text Files'\n",
    "\n",
    "# Set up Tesseract command if needed\n",
    "pytesseract.pytesseract.tesseract_cmd = r'/opt/homebrew/bin/tesseract'  # Adjust path as needed\n",
    "\n",
    "# Helper function to check if PDF is text-based\n",
    "def is_text_based_pdf(pdf_path):\n",
    "    try:\n",
    "        # Try extracting text with pdfminer\n",
    "        text = extract_text(pdf_path, maxpages=1)  # Only check the first page\n",
    "        return len(text.strip()) > 0  # If text is found, it's text-based\n",
    "    except Exception as e:\n",
    "        return False\n",
    "\n",
    "# Process the first 10 files\n",
    "count = 0\n",
    "for root, _, files in os.walk(pdf_folder):\n",
    "    for file in files:\n",
    "        if count >= 10:  # Limit to the first 10 files\n",
    "            break\n",
    "        if file.lower().endswith('.pdf'):\n",
    "            pdf_path = os.path.join(root, file)\n",
    "            file_name = os.path.splitext(file)[0]  # Get the file name without the extension\n",
    "            \n",
    "            # Check if it's a text-based PDF\n",
    "            if is_text_based_pdf(pdf_path):\n",
    "                # Extract text using pdfminer\n",
    "                text = extract_text(pdf_path)\n",
    "                output_file_path = os.path.join(output_folder, f\"{file_name}.txt\")\n",
    "            else:\n",
    "                # Extract text using OCR (Tesseract)\n",
    "                images = convert_from_path(pdf_path)\n",
    "                text = ''\n",
    "                for image in images:\n",
    "                    text += pytesseract.image_to_string(image)\n",
    "                output_file_path = os.path.join(output_folder, f\"{file_name}_tesseract.txt\")\n",
    "            \n",
    "            # Save the extracted text to a file\n",
    "            with open(output_file_path, 'w', encoding='utf-8') as text_file:\n",
    "                text_file.write(text)\n",
    "            \n",
    "            print(f\"Processed: {file_name}\")\n",
    "            count += 1\n"
   ]
  },
  {
   "cell_type": "code",
   "execution_count": 6,
   "id": "4b066448",
   "metadata": {},
   "outputs": [
    {
     "name": "stdout",
     "output_type": "stream",
     "text": [
      "Total runtime: 71.58 seconds\n"
     ]
    }
   ],
   "source": [
    "import os\n",
    "from pdfminer.high_level import extract_text\n",
    "from pdf2image import convert_from_path\n",
    "import pytesseract\n",
    "import time\n",
    "\n",
    "# Set up tesseract command\n",
    "pytesseract.pytesseract.tesseract_cmd = r'/opt/homebrew/bin/tesseract'\n",
    "\n",
    "# Path to the directory containing PDFs\n",
    "pdf_directory = \"../Comments Received After Field Review\"\n",
    "output_directory = \"./Text Files\"  # Adjust this path to where you want to save the text files\n",
    "\n",
    "# Create output directory if it doesn't exist\n",
    "os.makedirs(output_directory, exist_ok=True)\n",
    "\n",
    "# Counter to limit processed files\n",
    "file_count = 0\n",
    "max_files = 200\n",
    "\n",
    "# Function to check if PDF is text-based\n",
    "def is_text_based(pdf_path):\n",
    "    try:\n",
    "        text = extract_text(pdf_path)\n",
    "        return bool(text.strip())\n",
    "    except Exception as e:\n",
    "        return False\n",
    "\n",
    "# Start measuring the runtime\n",
    "start_time = time.time()\n",
    "\n",
    "# Iterate through PDF files and subdirectories\n",
    "for root, _, files in os.walk(pdf_directory):\n",
    "    for file in files:\n",
    "        if file.lower().endswith('.pdf'):\n",
    "            pdf_path = os.path.join(root, file)\n",
    "            \n",
    "            # Stop processing if the limit is reached\n",
    "            if file_count >= max_files:\n",
    "                break\n",
    "\n",
    "            if is_text_based(pdf_path):\n",
    "                # Extract text using pdfminer\n",
    "                text = extract_text(pdf_path)\n",
    "                output_file_path = os.path.join(output_directory, f\"{os.path.splitext(file)[0]}.txt\")\n",
    "            else:\n",
    "                # Extract text using pytesseract (OCR for image-based PDF)\n",
    "                images = convert_from_path(pdf_path)\n",
    "                text = \"\"\n",
    "                for image in images:\n",
    "                    text += pytesseract.image_to_string(image)\n",
    "                output_file_path = os.path.join(output_directory, f\"image_{os.path.splitext(file)[0]}.txt\")\n",
    "            \n",
    "            # Save the extracted text\n",
    "            try:\n",
    "                with open(output_file_path, 'w', encoding='utf-8') as f:\n",
    "                    f.write(text)\n",
    "                \n",
    "                # Increment file count\n",
    "                file_count += 1\n",
    "            except FileNotFoundError as e:\n",
    "                print(f\"Error saving file {output_file_path}: {e}\")\n",
    "\n",
    "# Calculate and print the runtime\n",
    "end_time = time.time()\n",
    "runtime = end_time - start_time\n",
    "print(f\"Total runtime: {runtime:.2f} seconds\")"
   ]
  },
  {
   "cell_type": "code",
   "execution_count": 7,
   "id": "6fcd1dc6",
   "metadata": {},
   "outputs": [
    {
     "name": "stdout",
     "output_type": "stream",
     "text": [
      "Total runtime: 32.33 seconds\n"
     ]
    }
   ],
   "source": [
    "import os\n",
    "import fitz  # PyMuPDF\n",
    "from pdf2image import convert_from_path\n",
    "import pytesseract\n",
    "import time\n",
    "\n",
    "# Set up tesseract command\n",
    "pytesseract.pytesseract.tesseract_cmd = r'/opt/homebrew/bin/tesseract'\n",
    "\n",
    "# Path to the directory containing PDFs\n",
    "pdf_directory = \"../Comments Received After Field Review\"\n",
    "output_directory = \"./Text Files 2\"  # Adjust this path to where you want to save the text files\n",
    "\n",
    "# Create output directory if it doesn't exist\n",
    "os.makedirs(output_directory, exist_ok=True)\n",
    "\n",
    "# Counter to limit processed files\n",
    "file_count = 0\n",
    "max_files = 200\n",
    "\n",
    "# Function to check if PDF is text-based using fitz\n",
    "def is_text_based(pdf_path):\n",
    "    try:\n",
    "        with fitz.open(pdf_path) as doc:\n",
    "            text = \"\"\n",
    "            for page in doc:\n",
    "                text += page.get_text()\n",
    "            return bool(text.strip())\n",
    "    except Exception as e:\n",
    "        return False\n",
    "\n",
    "# Start measuring the runtime\n",
    "start_time = time.time()\n",
    "\n",
    "# Iterate through PDF files and subdirectories\n",
    "for root, _, files in os.walk(pdf_directory):\n",
    "    for file in files:\n",
    "        if file.lower().endswith('.pdf'):\n",
    "            pdf_path = os.path.join(root, file)\n",
    "            \n",
    "            # Stop processing if the limit is reached\n",
    "            if file_count >= max_files:\n",
    "                break\n",
    "\n",
    "            if is_text_based(pdf_path):\n",
    "                # Extract text using fitz\n",
    "                text = \"\"\n",
    "                with fitz.open(pdf_path) as doc:\n",
    "                    for page in doc:\n",
    "                        text += page.get_text()\n",
    "                output_file_path = os.path.join(output_directory, f\"{os.path.splitext(file)[0]}.txt\")\n",
    "            else:\n",
    "                # Extract text using pytesseract (OCR for image-based PDF)\n",
    "                images = convert_from_path(pdf_path)\n",
    "                text = \"\"\n",
    "                for image in images:\n",
    "                    text += pytesseract.image_to_string(image)\n",
    "                output_file_path = os.path.join(output_directory, f\"image_{os.path.splitext(file)[0]}.txt\")\n",
    "            \n",
    "            # Save the extracted text\n",
    "            try:\n",
    "                with open(output_file_path, 'w', encoding='utf-8') as f:\n",
    "                    f.write(text)\n",
    "                \n",
    "                # Increment file count\n",
    "                file_count += 1\n",
    "            except FileNotFoundError as e:\n",
    "                print(f\"Error saving file {output_file_path}: {e}\")\n",
    "\n",
    "# Calculate and print the runtime\n",
    "end_time = time.time()\n",
    "runtime = end_time - start_time\n",
    "print(f\"Total runtime: {runtime:.2f} seconds\")\n"
   ]
  },
  {
   "cell_type": "code",
   "execution_count": null,
   "id": "54d2cc8b",
   "metadata": {},
   "outputs": [],
   "source": []
  }
 ],
 "metadata": {
  "kernelspec": {
   "display_name": "Python 3 (ipykernel)",
   "language": "python",
   "name": "python3"
  },
  "language_info": {
   "codemirror_mode": {
    "name": "ipython",
    "version": 3
   },
   "file_extension": ".py",
   "mimetype": "text/x-python",
   "name": "python",
   "nbconvert_exporter": "python",
   "pygments_lexer": "ipython3",
   "version": "3.11.4"
  }
 },
 "nbformat": 4,
 "nbformat_minor": 5
}
