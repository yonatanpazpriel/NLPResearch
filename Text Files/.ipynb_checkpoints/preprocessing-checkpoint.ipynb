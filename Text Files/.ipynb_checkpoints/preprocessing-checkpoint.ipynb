{
 "cells": [
  {
   "cell_type": "code",
   "execution_count": null,
   "id": "89d2c20c-c44d-47a8-a59d-18a269d395d7",
   "metadata": {},
   "outputs": [],
   "source": [
    "# Import necessary libraries\n",
    "import os\n",
    "import textract\n",
    "import nltk\n",
    "from sklearn.feature_extraction.text import TfidfVectorizer\n",
    "nltk.download('punkt')\n",
    "nltk.download('stopwords')\n",
    "nltk.download('wordnet')\n",
    "from nltk.corpus import stopwords\n",
    "from nltk.tokenize import word_tokenize\n",
    "from nltk.stem import WordNetLemmatizer\n",
    "\n",
    "# Initialize the lemmatizer\n",
    "lemmatizer = WordNetLemmatizer()\n",
    "stop_words = set(stopwords.words('english'))\n",
    "\n",
    "# Define the path to the main directory\n",
    "directory = \"textractOutputs\""
   ]
  },
  {
   "cell_type": "code",
   "execution_count": null,
   "id": "f0205b46-ce10-46fc-abbb-0d19260f9a35",
   "metadata": {},
   "outputs": [],
   "source": [
    "def preprocess_text(text):\n",
    "    tokens = word_tokenize(text)\n",
    "    tokens = [word.lower() for word in tokens]   \n",
    "    tokens = [word for word in tokens if word.isalpha()]\n",
    "    tokens = [word for word in tokens if word not in stop_words]\n",
    "    tokens = [lemmatizer.lemmatize(word) for word in tokens]\n",
    "    preprocessed_text = ' '.join(tokens)\n",
    "    return preprocessed_text"
   ]
  },
  {
   "cell_type": "code",
   "execution_count": null,
   "id": "fe654572-a511-4d21-b151-2d705ffdb85d",
   "metadata": {},
   "outputs": [],
   "source": [
    "preprocessed_documents = []\n",
    "original_folders = []\n",
    "file_names = []\n",
    "\n",
    "for subdir, dirs, files in os.walk(directory):\n",
    "    for file in files:\n",
    "        if file.endswith(\".txt\"):\n",
    "            \n",
    "            filepath = os.path.join(subdir, file)\n",
    "            folder_name = os.path.basename(subdir)\n",
    "            \n",
    "            with open(filepath, 'r', encoding='utf-8') as f:\n",
    "                text = f.read()\n",
    "                \n",
    "                # Preprocess the text\n",
    "                preprocessed_text = preprocess_text(text)\n",
    "                \n",
    "                # Store the preprocessed text and filename\n",
    "                preprocessed_documents.append(preprocessed_text)\n",
    "                original_folders.append(folder_name)\n",
    "                file_names.append(file)"
   ]
  },
  {
   "cell_type": "code",
   "execution_count": null,
   "id": "2708e2a8-e4c4-46c1-aabe-1ffa80c3548a",
   "metadata": {},
   "outputs": [],
   "source": [
    "df = pd.DataFrame({\n",
    "    'file_name': file_names,\n",
    "    'folder_name': folder_names,\n",
    "    'preprocessed_text': preprocessed_documents\n",
    "})\n",
    "\n",
    "# Save to CSV\n",
    "df.to_csv('preprocessed_texts_with_metadata.csv', index=False)"
   ]
  }
 ],
 "metadata": {
  "kernelspec": {
   "display_name": "Python 3 (ipykernel)",
   "language": "python",
   "name": "python3"
  },
  "language_info": {
   "codemirror_mode": {
    "name": "ipython",
    "version": 3
   },
   "file_extension": ".py",
   "mimetype": "text/x-python",
   "name": "python",
   "nbconvert_exporter": "python",
   "pygments_lexer": "ipython3",
   "version": "3.12.3"
  }
 },
 "nbformat": 4,
 "nbformat_minor": 5
}
