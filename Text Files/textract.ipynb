{
 "cells": [
  {
   "cell_type": "code",
   "execution_count": 7,
   "id": "cbd0177a-0708-43d2-a4b1-78f5fce12964",
   "metadata": {},
   "outputs": [
    {
     "name": "stdout",
     "output_type": "stream",
     "text": [
      "Collecting textractNote: you may need to restart the kernel to use updated packages.\n"
     ]
    },
    {
     "name": "stderr",
     "output_type": "stream",
     "text": [
      "WARNING: Ignoring version 1.6.5 of textract since it has invalid metadata:\n",
      "Requested textract from https://files.pythonhosted.org/packages/6b/3e/ac16b6bf28edf78296aea7d0cb416b49ed30282ac8c711662541015ee6f3/textract-1.6.5-py3-none-any.whl has invalid metadata: .* suffix can only be used with `==` or `!=` operators\n",
      "    extract-msg (<=0.29.*)\n",
      "                 ~~~~~~~^\n",
      "Please use pip<24.1 if you need to use this version.\n",
      "  error: subprocess-exited-with-error\n",
      "  \n",
      "  Getting requirements to build wheel did not run successfully.\n",
      "  exit code: 1\n",
      "  \n",
      "  [3 lines of output]\n",
      "  error in textract setup command: 'install_requires' must be a string or list of strings containing valid project/version requirement specifiers; .* suffix can only be used with `==` or `!=` operators\n",
      "      extract-msg<=0.29.*\n",
      "                 ~~~~~~~^\n",
      "  [end of output]\n",
      "  \n",
      "  note: This error originates from a subprocess, and is likely not a problem with pip.\n",
      "error: subprocess-exited-with-error\n",
      "\n",
      "Getting requirements to build wheel did not run successfully.\n",
      "exit code: 1\n",
      "\n",
      "See above for output.\n",
      "\n",
      "note: This error originates from a subprocess, and is likely not a problem with pip.\n"
     ]
    },
    {
     "name": "stdout",
     "output_type": "stream",
     "text": [
      "\n",
      "  Using cached textract-1.6.5-py3-none-any.whl.metadata (2.5 kB)\n",
      "  Using cached textract-1.6.4.tar.gz (17 kB)\n",
      "  Installing build dependencies: started\n",
      "  Installing build dependencies: finished with status 'done'\n",
      "  Getting requirements to build wheel: started\n",
      "  Getting requirements to build wheel: finished with status 'error'\n"
     ]
    }
   ],
   "source": [
    "pip install textract"
   ]
  },
  {
   "cell_type": "markdown",
   "id": "439d45a0-651a-4f51-95dc-2a1487bfdfed",
   "metadata": {},
   "source": [
    "#### 1. Setup - choose input and output directories, number N PDFs to extract each execution"
   ]
  },
  {
   "cell_type": "code",
   "execution_count": 11,
   "id": "be535abf-a770-40d2-b180-f6ddf8213590",
   "metadata": {},
   "outputs": [
    {
     "ename": "ModuleNotFoundError",
     "evalue": "No module named 'textract'",
     "output_type": "error",
     "traceback": [
      "\u001b[1;31m---------------------------------------------------------------------------\u001b[0m",
      "\u001b[1;31mModuleNotFoundError\u001b[0m                       Traceback (most recent call last)",
      "Cell \u001b[1;32mIn[11], line 2\u001b[0m\n\u001b[0;32m      1\u001b[0m \u001b[38;5;28;01mimport\u001b[39;00m \u001b[38;5;21;01mos\u001b[39;00m\n\u001b[1;32m----> 2\u001b[0m \u001b[38;5;28;01mimport\u001b[39;00m \u001b[38;5;21;01mtextract\u001b[39;00m\n\u001b[0;32m      3\u001b[0m \u001b[38;5;28;01mimport\u001b[39;00m \u001b[38;5;21;01mtime\u001b[39;00m\n\u001b[0;32m      5\u001b[0m \u001b[38;5;66;03m# CHANGE: Path to the directory containing PDFs\u001b[39;00m\n",
      "\u001b[1;31mModuleNotFoundError\u001b[0m: No module named 'textract'"
     ]
    }
   ],
   "source": [
    "import os\n",
    "import textract\n",
    "import time\n",
    "\n",
    "# CHANGE: Path to the directory containing PDFs\n",
    "input_directory = \"../Comments Received After Field Review\" # Adjust this path to the input folder containing PDFs to convert.\n",
    "output_directory = f\"./textractOutputs/{input_directory[3:]}\"  # Adjust this path to where you want to save the text files.\n",
    "\n",
    "# Create output directory if it doesn't exist\n",
    "os.makedirs(output_directory, exist_ok=True)\n",
    "\n",
    "curr_index = 0 # track how many you've processed so far\n",
    "n = 5 # Set n to desired number of files per execution of below cell.\n",
    "files = [file for file in os.listdir(input_directory) if file.endswith('.pdf')]"
   ]
  },
  {
   "cell_type": "markdown",
   "id": "749d02dd-5bac-496d-a35d-1d550ea65b74",
   "metadata": {},
   "source": [
    "#### 2. Extract N PDFs from input_directory -- this will cycle through entire input_directory N files at a time."
   ]
  },
  {
   "cell_type": "code",
   "execution_count": 13,
   "id": "f9b273f9-9be1-4bf0-939e-63eb5660ef2a",
   "metadata": {},
   "outputs": [],
   "source": [
    "n = n # change this and run it before below to edit starting point"
   ]
  },
  {
   "cell_type": "code",
   "execution_count": 12,
   "id": "220a2596-543e-4f8e-9dff-deaad2cf4da3",
   "metadata": {},
   "outputs": [
    {
     "name": "stdout",
     "output_type": "stream",
     "text": [
      "Processed 10-15-19 Jeung et al.pdf and saved to 10-15-19 Jeung et al.txt\n",
      "Processed 10-16-19 Wood.pdf and saved to 10-16-19 Wood.txt\n",
      "Processed 10-21-19 Abajian et al.pdf and saved to 10-21-19 Abajian et al.txt\n",
      "Processed 10-21-19 Ashborn.pdf and saved to 10-21-19 Ashborn.txt\n",
      "Processed 10-21-19 Coodley.pdf and saved to 10-21-19 Coodley.txt\n"
     ]
    }
   ],
   "source": [
    "def is_text_based(pdf_path):\n",
    "    try:\n",
    "        text = extract_text(pdf_path)\n",
    "        return bool(text.strip())\n",
    "    except Exception as e:\n",
    "        return False\n",
    "\n",
    "start_time = time.time()\n",
    "\n",
    "if curr_index + n < len(files):\n",
    "    n_files = files[curr_index : curr_index + n] # move n files along\n",
    "else:\n",
    "    n_files = files[curr_index :] # finish\n",
    "\n",
    "for filename in n_files:\n",
    "    if filename.endswith(\".pdf\"):  # Process only PDF files (skip any .txt files)\n",
    "        pdf_path = os.path.join(input_directory, filename)\n",
    "\n",
    "        if is_text_based(pdf_path):\n",
    "                # Extract text using pdfminer\n",
    "                text = extract_text(pdf_path)\n",
    "                output_file_path = os.path.join(output_directory, f\"{os.path.splitext(file)[0]}.txt\")\n",
    "        \n",
    "        try:\n",
    "            # Extract text from the PDF\n",
    "            text = textract.process(pdf_path)\n",
    "            \n",
    "            # Decode bytes to string\n",
    "            text_str = text.decode('utf-8')\n",
    "            \n",
    "            # Define output file path\n",
    "            output_filename = f\"{os.path.splitext(filename)[0]}.txt\"\n",
    "            output_path = os.path.join(output_directory, output_filename)\n",
    "            \n",
    "            # Write the extracted text to a text file\n",
    "            with open(output_path, \"w\", encoding=\"utf-8\") as text_file:\n",
    "                text_file.write(text_str)\n",
    "\n",
    "            print(f\"Processed {filename} and saved to {output_filename}\")\n",
    "\n",
    "        except Exception as e:\n",
    "                    print(f\"Failed to process {filename}: {e}\")\n",
    "\n",
    "curr_index += n"
   ]
  }
 ],
 "metadata": {
  "kernelspec": {
   "display_name": "Python 3 (ipykernel)",
   "language": "python",
   "name": "python3"
  },
  "language_info": {
   "codemirror_mode": {
    "name": "ipython",
    "version": 3
   },
   "file_extension": ".py",
   "mimetype": "text/x-python",
   "name": "python",
   "nbconvert_exporter": "python",
   "pygments_lexer": "ipython3",
   "version": "3.12.3"
  }
 },
 "nbformat": 4,
 "nbformat_minor": 5
}
