{
 "cells": [
  {
   "cell_type": "code",
   "execution_count": 1,
   "id": "cbd0177a-0708-43d2-a4b1-78f5fce12964",
   "metadata": {
    "collapsed": true,
    "jupyter": {
     "outputs_hidden": true
    }
   },
   "outputs": [
    {
     "name": "stdout",
     "output_type": "stream",
     "text": [
      "Collecting textract\n",
      "  Downloading textract-1.6.5-py3-none-any.whl (23 kB)\n",
      "Collecting docx2txt~=0.8\n",
      "  Downloading docx2txt-0.8.tar.gz (2.8 kB)\n",
      "  Preparing metadata (setup.py): started\n",
      "  Preparing metadata (setup.py): finished with status 'done'\n",
      "Collecting beautifulsoup4~=4.8.0\n",
      "  Downloading beautifulsoup4-4.8.2-py3-none-any.whl (106 kB)\n",
      "     -------------------------------------- 106.9/106.9 KB 2.1 MB/s eta 0:00:00\n",
      "Collecting xlrd~=1.2.0\n",
      "  Downloading xlrd-1.2.0-py2.py3-none-any.whl (103 kB)\n",
      "     -------------------------------------- 103.3/103.3 KB 2.0 MB/s eta 0:00:00\n",
      "Collecting extract-msg<=0.29.*\n",
      "  Downloading extract_msg-0.28.7-py2.py3-none-any.whl (69 kB)\n",
      "     ---------------------------------------- 69.0/69.0 KB 3.7 MB/s eta 0:00:00\n",
      "Collecting chardet==3.*\n",
      "  Downloading chardet-3.0.4-py2.py3-none-any.whl (133 kB)\n",
      "     -------------------------------------- 133.4/133.4 KB 4.0 MB/s eta 0:00:00\n",
      "Collecting pdfminer.six==20191110\n",
      "  Downloading pdfminer.six-20191110-py2.py3-none-any.whl (5.6 MB)\n",
      "     ---------------------------------------- 5.6/5.6 MB 2.3 MB/s eta 0:00:00\n",
      "Collecting six~=1.12.0\n",
      "  Downloading six-1.12.0-py2.py3-none-any.whl (10 kB)\n",
      "Collecting SpeechRecognition~=3.8.1\n",
      "  Downloading SpeechRecognition-3.8.1-py2.py3-none-any.whl (32.8 MB)\n",
      "     ---------------------------------------- 32.8/32.8 MB 2.5 MB/s eta 0:00:00\n",
      "Collecting argcomplete~=1.10.0\n",
      "  Downloading argcomplete-1.10.3-py2.py3-none-any.whl (36 kB)\n",
      "Collecting python-pptx~=0.6.18\n",
      "  Downloading python_pptx-0.6.23-py3-none-any.whl (471 kB)\n",
      "     -------------------------------------- 471.6/471.6 KB 2.3 MB/s eta 0:00:00\n",
      "Collecting pycryptodome\n",
      "  Downloading pycryptodome-3.21.0-cp36-abi3-win_amd64.whl (1.8 MB)\n",
      "     ---------------------------------------- 1.8/1.8 MB 3.3 MB/s eta 0:00:00\n",
      "Collecting sortedcontainers\n",
      "  Downloading sortedcontainers-2.4.0-py2.py3-none-any.whl (29 kB)\n",
      "Requirement already satisfied: soupsieve>=1.2 in c:\\users\\yonat\\appdata\\local\\packages\\pythonsoftwarefoundation.python.3.9_qbz5n2kfra8p0\\localcache\\local-packages\\python39\\site-packages (from beautifulsoup4~=4.8.0->textract) (2.6)\n",
      "Collecting imapclient==2.1.0\n",
      "  Downloading IMAPClient-2.1.0-py2.py3-none-any.whl (73 kB)\n",
      "     ---------------------------------------- 74.0/74.0 KB 2.1 MB/s eta 0:00:00\n",
      "Collecting tzlocal>=2.1\n",
      "  Downloading tzlocal-5.2-py3-none-any.whl (17 kB)\n",
      "Collecting ebcdic>=1.1.1\n",
      "  Downloading ebcdic-1.1.1-py2.py3-none-any.whl (128 kB)\n",
      "     -------------------------------------- 128.5/128.5 KB 2.5 MB/s eta 0:00:00\n",
      "Collecting olefile>=0.46\n",
      "  Downloading olefile-0.47-py2.py3-none-any.whl (114 kB)\n",
      "     -------------------------------------- 114.6/114.6 KB 1.3 MB/s eta 0:00:00\n",
      "Collecting compressed-rtf>=1.0.6\n",
      "  Downloading compressed_rtf-1.0.6.tar.gz (5.8 kB)\n",
      "  Preparing metadata (setup.py): started\n",
      "  Preparing metadata (setup.py): finished with status 'done'\n",
      "Collecting Pillow>=3.3.2\n",
      "  Downloading pillow-10.4.0-cp39-cp39-win_amd64.whl (2.6 MB)\n",
      "     ---------------------------------------- 2.6/2.6 MB 3.3 MB/s eta 0:00:00\n",
      "Collecting XlsxWriter>=0.5.7\n",
      "  Downloading XlsxWriter-3.2.0-py3-none-any.whl (159 kB)\n",
      "     -------------------------------------- 159.9/159.9 KB 2.4 MB/s eta 0:00:00\n",
      "Collecting lxml>=3.1.0\n",
      "  Downloading lxml-5.3.0-cp39-cp39-win_amd64.whl (3.8 MB)\n",
      "     ---------------------------------------- 3.8/3.8 MB 3.7 MB/s eta 0:00:00\n",
      "Collecting tzdata\n",
      "  Downloading tzdata-2024.2-py2.py3-none-any.whl (346 kB)\n",
      "     -------------------------------------- 346.6/346.6 KB 3.6 MB/s eta 0:00:00\n",
      "Using legacy 'setup.py install' for docx2txt, since package 'wheel' is not installed.\n",
      "Using legacy 'setup.py install' for compressed-rtf, since package 'wheel' is not installed.\n",
      "Installing collected packages: SpeechRecognition, sortedcontainers, ebcdic, docx2txt, compressed-rtf, chardet, argcomplete, XlsxWriter, xlrd, tzdata, six, pycryptodome, Pillow, olefile, lxml, beautifulsoup4, tzlocal, python-pptx, pdfminer.six, imapclient, extract-msg, textract\n",
      "  Running setup.py install for docx2txt: started\n",
      "  Running setup.py install for docx2txt: finished with status 'done'\n",
      "  Running setup.py install for compressed-rtf: started\n",
      "  Running setup.py install for compressed-rtf: finished with status 'done'\n",
      "  Attempting uninstall: six\n",
      "    Found existing installation: six 1.16.0\n",
      "    Uninstalling six-1.16.0:\n",
      "      Successfully uninstalled six-1.16.0\n",
      "  Attempting uninstall: beautifulsoup4\n",
      "    Found existing installation: beautifulsoup4 4.12.3\n",
      "    Uninstalling beautifulsoup4-4.12.3:\n",
      "      Successfully uninstalled beautifulsoup4-4.12.3\n",
      "Successfully installed Pillow-10.4.0 SpeechRecognition-3.8.1 XlsxWriter-3.2.0 argcomplete-1.10.3 beautifulsoup4-4.8.2 chardet-3.0.4 compressed-rtf-1.0.6 docx2txt-0.8 ebcdic-1.1.1 extract-msg-0.28.7 imapclient-2.1.0 lxml-5.3.0 olefile-0.47 pdfminer.six-20191110 pycryptodome-3.21.0 python-pptx-0.6.23 six-1.12.0 sortedcontainers-2.4.0 textract-1.6.5 tzdata-2024.2 tzlocal-5.2 xlrd-1.2.0\n",
      "Note: you may need to restart the kernel to use updated packages.\n"
     ]
    },
    {
     "name": "stderr",
     "output_type": "stream",
     "text": [
      "  WARNING: The script chardetect.exe is installed in 'C:\\Users\\yonat\\AppData\\Local\\Packages\\PythonSoftwareFoundation.Python.3.9_qbz5n2kfra8p0\\LocalCache\\local-packages\\Python39\\Scripts' which is not on PATH.\n",
      "  Consider adding this directory to PATH or, if you prefer to suppress this warning, use --no-warn-script-location.\n",
      "  WARNING: The script extract_msg.exe is installed in 'C:\\Users\\yonat\\AppData\\Local\\Packages\\PythonSoftwareFoundation.Python.3.9_qbz5n2kfra8p0\\LocalCache\\local-packages\\Python39\\Scripts' which is not on PATH.\n",
      "  Consider adding this directory to PATH or, if you prefer to suppress this warning, use --no-warn-script-location.\n",
      "WARNING: You are using pip version 22.0.4; however, version 24.2 is available.\n",
      "You should consider upgrading via the 'C:\\Users\\yonat\\AppData\\Local\\Microsoft\\WindowsApps\\PythonSoftwareFoundation.Python.3.9_qbz5n2kfra8p0\\python.exe -m pip install --upgrade pip' command.\n"
     ]
    }
   ],
   "source": [
    "pip install textract"
   ]
  },
  {
   "cell_type": "markdown",
   "id": "439d45a0-651a-4f51-95dc-2a1487bfdfed",
   "metadata": {},
   "source": [
    "#### 1. Setup - choose input and output directories, number N PDFs to extract each execution"
   ]
  },
  {
   "cell_type": "code",
   "execution_count": 9,
   "id": "be535abf-a770-40d2-b180-f6ddf8213590",
   "metadata": {},
   "outputs": [],
   "source": [
    "import os\n",
    "import textract\n",
    "\n",
    "# CHANGE: Path to the directory containing PDFs\n",
    "input_directory = \"../Comments Received After Field Review\" # Adjust this path to the input folder containing PDFs to convert.\n",
    "output_directory = f\"./textractOutputs/{input_directory[3:]}\"  # Adjust this path to where you want to save the text files.\n",
    "\n",
    "# Create output directory if it doesn't exist\n",
    "os.makedirs(output_directory, exist_ok=True)\n",
    "\n",
    "curr_index = 0 # track how many you've processed so far\n",
    "n = 5 # Set n to desired number of files per execution of below cell.\n",
    "files = [file for file in os.listdir(input_directory) if file.endswith('.pdf')]"
   ]
  },
  {
   "cell_type": "markdown",
   "id": "749d02dd-5bac-496d-a35d-1d550ea65b74",
   "metadata": {},
   "source": [
    "#### 2. Extract N PDFs from input_directory -- this will cycle through entire input_directory N files at a time."
   ]
  },
  {
   "cell_type": "code",
   "execution_count": 13,
   "id": "f9b273f9-9be1-4bf0-939e-63eb5660ef2a",
   "metadata": {},
   "outputs": [],
   "source": [
    "n = n # change this and run it before below to edit starting point"
   ]
  },
  {
   "cell_type": "code",
   "execution_count": 12,
   "id": "220a2596-543e-4f8e-9dff-deaad2cf4da3",
   "metadata": {},
   "outputs": [
    {
     "name": "stdout",
     "output_type": "stream",
     "text": [
      "Processed 10-15-19 Jeung et al.pdf and saved to 10-15-19 Jeung et al.txt\n",
      "Processed 10-16-19 Wood.pdf and saved to 10-16-19 Wood.txt\n",
      "Processed 10-21-19 Abajian et al.pdf and saved to 10-21-19 Abajian et al.txt\n",
      "Processed 10-21-19 Ashborn.pdf and saved to 10-21-19 Ashborn.txt\n",
      "Processed 10-21-19 Coodley.pdf and saved to 10-21-19 Coodley.txt\n"
     ]
    }
   ],
   "source": [
    "if curr_index + n < len(files):\n",
    "    n_files = files[curr_index : curr_index + n] # move n files along\n",
    "else:\n",
    "    n_files = files[curr_index :] # finish\n",
    "\n",
    "for filename in n_files:\n",
    "    if filename.endswith(\".pdf\"):  # Process only PDF files (skip any .txt files)\n",
    "        pdf_path = os.path.join(input_directory, filename)\n",
    "\n",
    "        try:\n",
    "            # Extract text from the PDF\n",
    "            text = textract.process(pdf_path)\n",
    "            \n",
    "            # Decode bytes to string\n",
    "            text_str = text.decode('utf-8')\n",
    "            \n",
    "            # Define output file path\n",
    "            output_filename = f\"{os.path.splitext(filename)[0]}.txt\"\n",
    "            output_path = os.path.join(output_directory, output_filename)\n",
    "            \n",
    "            # Write the extracted text to a text file\n",
    "            with open(output_path, \"w\", encoding=\"utf-8\") as text_file:\n",
    "                text_file.write(text_str)\n",
    "\n",
    "            print(f\"Processed {filename} and saved to {output_filename}\")\n",
    "\n",
    "        except Exception as e:\n",
    "                    print(f\"Failed to process {filename}: {e}\")\n",
    "\n",
    "curr_index += n"
   ]
  }
 ],
 "metadata": {
  "kernelspec": {
   "display_name": "Python 3 (ipykernel)",
   "language": "python",
   "name": "python3"
  },
  "language_info": {
   "codemirror_mode": {
    "name": "ipython",
    "version": 3
   },
   "file_extension": ".py",
   "mimetype": "text/x-python",
   "name": "python",
   "nbconvert_exporter": "python",
   "pygments_lexer": "ipython3",
   "version": "3.9.13"
  }
 },
 "nbformat": 4,
 "nbformat_minor": 5
}
