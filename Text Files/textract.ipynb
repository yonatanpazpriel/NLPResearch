{
 "cells": [
  {
   "cell_type": "markdown",
   "id": "439d45a0-651a-4f51-95dc-2a1487bfdfed",
   "metadata": {},
   "source": [
    "#### 1. Setup - choose input and output directories, number N PDFs to extract each execution"
   ]
  },
  {
   "cell_type": "code",
   "execution_count": 30,
   "id": "be535abf-a770-40d2-b180-f6ddf8213590",
   "metadata": {},
   "outputs": [
    {
     "name": "stdout",
     "output_type": "stream",
     "text": [
      "807\n"
     ]
    }
   ],
   "source": [
    "import os\n",
    "import shutil\n",
    "import textract\n",
    "import time\n",
    "\n",
    "# CHANGE: Path to the directory containing PDFs\n",
    "input_directory = \"../Third Field Review (Dec 2020 - Jan 2021)\" # Adjust this path to the input folder containing PDFs to convert.\n",
    "embedded_output_directory = f\"./textractOutputs/{input_directory[3:]}_embeddedText\"  # Adjust this path to where you want to save the text files.\n",
    "image_output_directory = f\"./textractOutputs/{input_directory[3:]}_images\" # adjust this path to where you want to save scanned image-based files.\n",
    "\n",
    "# Create output directory if it doesn't exist\n",
    "os.makedirs(embedded_output_directory, exist_ok=True)\n",
    "os.makedirs(image_output_directory, exist_ok=True)\n",
    "\n",
    "curr_index = 0 # track how many you've processed so far\n",
    "n = 1000 # Set n to desired number of files per execution of below cell.\n",
    "\n",
    "files = [file for file in os.listdir(input_directory) if file.endswith('pdf')]\n",
    "print(len(files))"
   ]
  },
  {
   "cell_type": "markdown",
   "id": "749d02dd-5bac-496d-a35d-1d550ea65b74",
   "metadata": {},
   "source": [
    "#### 2. Extract N PDFs from input_directory -- this will cycle through entire input_directory N files at a time."
   ]
  },
  {
   "cell_type": "code",
   "execution_count": 26,
   "id": "f9b273f9-9be1-4bf0-939e-63eb5660ef2a",
   "metadata": {},
   "outputs": [],
   "source": [
    "# n = n # change this and run it before below if you want to edit starting point\n",
    "n = 4136"
   ]
  },
  {
   "cell_type": "code",
   "execution_count": 31,
   "id": "220a2596-543e-4f8e-9dff-deaad2cf4da3",
   "metadata": {},
   "outputs": [
    {
     "name": "stdout",
     "output_type": "stream",
     "text": [
      "Finished extracting from directory\n",
      "Processed 804 embedded PDFs and 3 scanned PDFs \n",
      " Total runtime: 236.17 seconds \n",
      " 0 Errors\n"
     ]
    }
   ],
   "source": [
    "# Function to check if it's embedded text-based PDF, or image/errors\n",
    "def is_text_based(pdf_path):\n",
    "    try: #hm\n",
    "        text = textract.process(pdf_path)\n",
    "        return bool(text.strip())\n",
    "    except Exception as e:\n",
    "        return False\n",
    "\n",
    "num_embedded, num_images, errors = 0, 0, 0\n",
    "\n",
    "start_time = time.time()\n",
    "\n",
    "if curr_index + n < len(files):\n",
    "    n_files = files[curr_index : curr_index + n] # move n files along\n",
    "    print('indices processed: ', curr_index, curr_index + n)\n",
    "else:\n",
    "    n_files = files[curr_index :] # finish\n",
    "    print(\"Finished extracting from directory\")\n",
    "\n",
    "for filename in n_files:    \n",
    "        \n",
    "    if filename.endswith(\".pdf\"):  # Process only PDF files (skip any .txt files)\n",
    "        pdf_path = os.path.join(input_directory, filename)\n",
    "        \n",
    "        if is_text_based(pdf_path):\n",
    "            # Extract text using pdf\n",
    "            text = textract.process(pdf_path)\n",
    "            #output_file_path = os.path.join(embedded_output_directory, f\"{os.path.splitext(filename)[0]}_embedded.txt\")\n",
    "            try: #line \n",
    "                # Extract text from the PDF\n",
    "                text = textract.process(pdf_path)\n",
    "                \n",
    "                # Decode bytes to string\n",
    "                text_str = text.decode('utf-8')\n",
    "                \n",
    "                # Define output file path\n",
    "                output_filename = f\"{os.path.splitext(filename)[0]}_embedded.txt\"\n",
    "                output_path = os.path.join(embedded_output_directory, output_filename)\n",
    "                \n",
    "                # Write the extracted text to a text file\n",
    "                with open(output_path, \"w\", encoding=\"utf-8\") as text_file:\n",
    "                    text_file.write(text_str)\n",
    "                num_embedded += 1\n",
    "\n",
    "            except Exception as e:\n",
    "                errors += 1\n",
    "        \n",
    "        else: \n",
    "            try:\n",
    "                output_file_path = os.path.join(image_output_directory, f\"{os.path.splitext(filename)[0]}_image.pdf\")\n",
    "                shutil.move(pdf_path, output_file_path)\n",
    "                num_images += 1\n",
    "            except:\n",
    "                errors += 1\n",
    "curr_index += n\n",
    "\n",
    "    \n",
    "\n",
    "\n",
    "end_time = time.time()\n",
    "runtime = end_time - start_time\n",
    "print(f\"Processed {num_embedded} embedded PDFs and {num_images} scanned PDFs \\n Total runtime: {runtime:.2f} seconds \\n {errors} Errors\")"
   ]
  },
  {
   "cell_type": "code",
   "execution_count": null,
   "id": "31d60bc7",
   "metadata": {},
   "outputs": [],
   "source": []
  }
 ],
 "metadata": {
  "kernelspec": {
   "display_name": "Python 3 (ipykernel)",
   "language": "python",
   "name": "python3"
  },
  "language_info": {
   "codemirror_mode": {
    "name": "ipython",
    "version": 3
   },
   "file_extension": ".py",
   "mimetype": "text/x-python",
   "name": "python",
   "nbconvert_exporter": "python",
   "pygments_lexer": "ipython3",
   "version": "3.12.3"
  }
 },
 "nbformat": 4,
 "nbformat_minor": 5
}
