{
 "cells": [
  {
   "cell_type": "code",
   "execution_count": 3,
   "id": "8d6ee15a",
   "metadata": {},
   "outputs": [],
   "source": [
    "import os\n",
    "import pandas as pd\n",
    "\n",
    "# Initialize an empty list to store data\n",
    "data = []\n",
    "\n",
    "# Specify the root folder\n",
    "root_folder = \"../textractOutputs\"\n",
    "\n",
    "# Walk through all subfolders and files\n",
    "for folder_name, subfolders, files in os.walk(root_folder):\n",
    "    for file in files:\n",
    "        if file.endswith(\".txt\"):  # Check if the file is a text file\n",
    "            file_path = os.path.join(folder_name, file)  # Get the full file path\n",
    "            with open(file_path, \"r\", encoding=\"utf-8\") as f:\n",
    "                text = f.read()  # Read the content of the text file\n",
    "            # Extract the folder name (last part of the folder path)\n",
    "            subfolder_name = os.path.basename(folder_name)\n",
    "            # Append the information as a row\n",
    "            data.append({\"file_name\": file, \"folder_name\": subfolder_name, \"text\": text})\n",
    "\n",
    "# Create a DataFrame\n",
    "all_files = pd.DataFrame(data)\n",
    "\n",
    "# Display the DataFrame\n",
    "all_files\n",
    "\n",
    "# Save the DataFrame to a CSV file\n",
    "all_files.to_csv(\"all_files.csv\", index=False, encoding=\"utf-8\")"
   ]
  },
  {
   "cell_type": "code",
   "execution_count": null,
   "id": "30040aee",
   "metadata": {},
   "outputs": [],
   "source": []
  }
 ],
 "metadata": {
  "kernelspec": {
   "display_name": "Python 3 (ipykernel)",
   "language": "python",
   "name": "python3"
  },
  "language_info": {
   "codemirror_mode": {
    "name": "ipython",
    "version": 3
   },
   "file_extension": ".py",
   "mimetype": "text/x-python",
   "name": "python",
   "nbconvert_exporter": "python",
   "pygments_lexer": "ipython3",
   "version": "3.11.4"
  }
 },
 "nbformat": 4,
 "nbformat_minor": 5
}
